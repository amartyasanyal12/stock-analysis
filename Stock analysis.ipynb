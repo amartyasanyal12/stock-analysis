{
 "cells": [
  {
   "cell_type": "code",
   "execution_count": 1,
   "metadata": {},
   "outputs": [],
   "source": [
    "import pandas as pd\n",
    "%matplotlib inline\n",
    "import numpy as np"
   ]
  },
  {
   "cell_type": "code",
   "execution_count": 2,
   "metadata": {},
   "outputs": [],
   "source": [
    "#imported data reader from pandas df\n",
    "import pandas_datareader as dr"
   ]
  },
  {
   "cell_type": "code",
   "execution_count": 3,
   "metadata": {},
   "outputs": [],
   "source": [
    "#assogning Netflix stock prices to stock dataframe\n",
    "stock=dr.data.get_data_yahoo('NFLX',start='2020-07-01',end='2021-08-31')"
   ]
  },
  {
   "cell_type": "code",
   "execution_count": 4,
   "metadata": {},
   "outputs": [
    {
     "data": {
      "text/html": [
       "<div>\n",
       "<style scoped>\n",
       "    .dataframe tbody tr th:only-of-type {\n",
       "        vertical-align: middle;\n",
       "    }\n",
       "\n",
       "    .dataframe tbody tr th {\n",
       "        vertical-align: top;\n",
       "    }\n",
       "\n",
       "    .dataframe thead th {\n",
       "        text-align: right;\n",
       "    }\n",
       "</style>\n",
       "<table border=\"1\" class=\"dataframe\">\n",
       "  <thead>\n",
       "    <tr style=\"text-align: right;\">\n",
       "      <th></th>\n",
       "      <th>High</th>\n",
       "      <th>Low</th>\n",
       "      <th>Open</th>\n",
       "      <th>Close</th>\n",
       "      <th>Volume</th>\n",
       "      <th>Adj Close</th>\n",
       "    </tr>\n",
       "    <tr>\n",
       "      <th>Date</th>\n",
       "      <th></th>\n",
       "      <th></th>\n",
       "      <th></th>\n",
       "      <th></th>\n",
       "      <th></th>\n",
       "      <th></th>\n",
       "    </tr>\n",
       "  </thead>\n",
       "  <tbody>\n",
       "    <tr>\n",
       "      <th>2020-06-30</th>\n",
       "      <td>457.589996</td>\n",
       "      <td>447.000000</td>\n",
       "      <td>450.019989</td>\n",
       "      <td>455.040009</td>\n",
       "      <td>4198500</td>\n",
       "      <td>455.040009</td>\n",
       "    </tr>\n",
       "    <tr>\n",
       "      <th>2020-07-01</th>\n",
       "      <td>488.230011</td>\n",
       "      <td>454.000000</td>\n",
       "      <td>454.000000</td>\n",
       "      <td>485.640015</td>\n",
       "      <td>9705900</td>\n",
       "      <td>485.640015</td>\n",
       "    </tr>\n",
       "    <tr>\n",
       "      <th>2020-07-02</th>\n",
       "      <td>492.279999</td>\n",
       "      <td>475.529999</td>\n",
       "      <td>485.640015</td>\n",
       "      <td>476.890015</td>\n",
       "      <td>6351500</td>\n",
       "      <td>476.890015</td>\n",
       "    </tr>\n",
       "    <tr>\n",
       "      <th>2020-07-06</th>\n",
       "      <td>499.500000</td>\n",
       "      <td>479.799988</td>\n",
       "      <td>480.769989</td>\n",
       "      <td>493.809998</td>\n",
       "      <td>7839000</td>\n",
       "      <td>493.809998</td>\n",
       "    </tr>\n",
       "    <tr>\n",
       "      <th>2020-07-07</th>\n",
       "      <td>504.820007</td>\n",
       "      <td>490.829987</td>\n",
       "      <td>497.309998</td>\n",
       "      <td>493.160004</td>\n",
       "      <td>5669900</td>\n",
       "      <td>493.160004</td>\n",
       "    </tr>\n",
       "    <tr>\n",
       "      <th>...</th>\n",
       "      <td>...</td>\n",
       "      <td>...</td>\n",
       "      <td>...</td>\n",
       "      <td>...</td>\n",
       "      <td>...</td>\n",
       "      <td>...</td>\n",
       "    </tr>\n",
       "    <tr>\n",
       "      <th>2021-08-25</th>\n",
       "      <td>552.840027</td>\n",
       "      <td>545.450012</td>\n",
       "      <td>550.159973</td>\n",
       "      <td>547.580017</td>\n",
       "      <td>2065600</td>\n",
       "      <td>547.580017</td>\n",
       "    </tr>\n",
       "    <tr>\n",
       "      <th>2021-08-26</th>\n",
       "      <td>552.599976</td>\n",
       "      <td>545.900024</td>\n",
       "      <td>546.159973</td>\n",
       "      <td>550.119995</td>\n",
       "      <td>1595500</td>\n",
       "      <td>550.119995</td>\n",
       "    </tr>\n",
       "    <tr>\n",
       "      <th>2021-08-27</th>\n",
       "      <td>564.169983</td>\n",
       "      <td>549.250000</td>\n",
       "      <td>551.599976</td>\n",
       "      <td>558.919983</td>\n",
       "      <td>3251100</td>\n",
       "      <td>558.919983</td>\n",
       "    </tr>\n",
       "    <tr>\n",
       "      <th>2021-08-30</th>\n",
       "      <td>567.159973</td>\n",
       "      <td>556.450012</td>\n",
       "      <td>557.250000</td>\n",
       "      <td>566.179993</td>\n",
       "      <td>2434800</td>\n",
       "      <td>566.179993</td>\n",
       "    </tr>\n",
       "    <tr>\n",
       "      <th>2021-08-31</th>\n",
       "      <td>569.479980</td>\n",
       "      <td>561.609985</td>\n",
       "      <td>566.119995</td>\n",
       "      <td>569.190002</td>\n",
       "      <td>2431900</td>\n",
       "      <td>569.190002</td>\n",
       "    </tr>\n",
       "  </tbody>\n",
       "</table>\n",
       "<p>296 rows × 6 columns</p>\n",
       "</div>"
      ],
      "text/plain": [
       "                  High         Low        Open       Close   Volume  \\\n",
       "Date                                                                  \n",
       "2020-06-30  457.589996  447.000000  450.019989  455.040009  4198500   \n",
       "2020-07-01  488.230011  454.000000  454.000000  485.640015  9705900   \n",
       "2020-07-02  492.279999  475.529999  485.640015  476.890015  6351500   \n",
       "2020-07-06  499.500000  479.799988  480.769989  493.809998  7839000   \n",
       "2020-07-07  504.820007  490.829987  497.309998  493.160004  5669900   \n",
       "...                ...         ...         ...         ...      ...   \n",
       "2021-08-25  552.840027  545.450012  550.159973  547.580017  2065600   \n",
       "2021-08-26  552.599976  545.900024  546.159973  550.119995  1595500   \n",
       "2021-08-27  564.169983  549.250000  551.599976  558.919983  3251100   \n",
       "2021-08-30  567.159973  556.450012  557.250000  566.179993  2434800   \n",
       "2021-08-31  569.479980  561.609985  566.119995  569.190002  2431900   \n",
       "\n",
       "             Adj Close  \n",
       "Date                    \n",
       "2020-06-30  455.040009  \n",
       "2020-07-01  485.640015  \n",
       "2020-07-02  476.890015  \n",
       "2020-07-06  493.809998  \n",
       "2020-07-07  493.160004  \n",
       "...                ...  \n",
       "2021-08-25  547.580017  \n",
       "2021-08-26  550.119995  \n",
       "2021-08-27  558.919983  \n",
       "2021-08-30  566.179993  \n",
       "2021-08-31  569.190002  \n",
       "\n",
       "[296 rows x 6 columns]"
      ]
     },
     "execution_count": 4,
     "metadata": {},
     "output_type": "execute_result"
    }
   ],
   "source": [
    "stock"
   ]
  },
  {
   "cell_type": "code",
   "execution_count": 5,
   "metadata": {},
   "outputs": [
    {
     "name": "stdout",
     "output_type": "stream",
     "text": [
      "<class 'pandas.core.frame.DataFrame'>\n",
      "DatetimeIndex: 296 entries, 2020-06-30 to 2021-08-31\n",
      "Data columns (total 6 columns):\n",
      " #   Column     Non-Null Count  Dtype  \n",
      "---  ------     --------------  -----  \n",
      " 0   High       296 non-null    float64\n",
      " 1   Low        296 non-null    float64\n",
      " 2   Open       296 non-null    float64\n",
      " 3   Close      296 non-null    float64\n",
      " 4   Volume     296 non-null    int64  \n",
      " 5   Adj Close  296 non-null    float64\n",
      "dtypes: float64(5), int64(1)\n",
      "memory usage: 16.2 KB\n"
     ]
    }
   ],
   "source": [
    "stock.info()"
   ]
  },
  {
   "cell_type": "code",
   "execution_count": 6,
   "metadata": {},
   "outputs": [
    {
     "data": {
      "image/png": "[encoded data removed]",
      "text/plain": [
       "<Figure size 1080x360 with 1 Axes>"
      ]
     },
     "metadata": {
      "needs_background": "light"
     },
     "output_type": "display_data"
    }
   ],
   "source": [
    "stock[['Open','Close']].plot(figsize=(15,5));"
   ]
  },
  {
   "cell_type": "code",
   "execution_count": 7,
   "metadata": {},
   "outputs": [
    {
     "data": {
      "text/plain": [
       "<AxesSubplot:xlabel='Date'>"
      ]
     },
     "execution_count": 7,
     "metadata": {},
     "output_type": "execute_result"
    },
    {
     "data": {
      "image/png": "[encoded data removed]",
      "text/plain": [
       "<Figure size 1080x360 with 1 Axes>"
      ]
     },
     "metadata": {
      "needs_background": "light"
     },
     "output_type": "display_data"
    }
   ],
   "source": [
    "#slicing date to get fig\n",
    "stock.loc['2021-08-01':'2021-08-10',['Open','Close']].plot(figsize=(15,5))"
   ]
  },
  {
   "cell_type": "code",
   "execution_count": 8,
   "metadata": {},
   "outputs": [
    {
     "data": {
      "image/png": "[encoded data removed]",
      "text/plain": [
       "<Figure size 864x360 with 1 Axes>"
      ]
     },
     "metadata": {
      "needs_background": "light"
     },
     "output_type": "display_data"
    }
   ],
   "source": [
    "#percentage change\n",
    "stock['Close'].pct_change().plot(figsize=(12,5));"
   ]
  },
  {
   "cell_type": "code",
   "execution_count": 9,
   "metadata": {},
   "outputs": [
    {
     "data": {
      "text/html": [
       "<div>\n",
       "<style scoped>\n",
       "    .dataframe tbody tr th:only-of-type {\n",
       "        vertical-align: middle;\n",
       "    }\n",
       "\n",
       "    .dataframe tbody tr th {\n",
       "        vertical-align: top;\n",
       "    }\n",
       "\n",
       "    .dataframe thead th {\n",
       "        text-align: right;\n",
       "    }\n",
       "</style>\n",
       "<table border=\"1\" class=\"dataframe\">\n",
       "  <thead>\n",
       "    <tr style=\"text-align: right;\">\n",
       "      <th></th>\n",
       "      <th>High</th>\n",
       "      <th>Low</th>\n",
       "      <th>Open</th>\n",
       "      <th>Close</th>\n",
       "      <th>Volume</th>\n",
       "      <th>Adj Close</th>\n",
       "    </tr>\n",
       "    <tr>\n",
       "      <th>Date</th>\n",
       "      <th></th>\n",
       "      <th></th>\n",
       "      <th></th>\n",
       "      <th></th>\n",
       "      <th></th>\n",
       "      <th></th>\n",
       "    </tr>\n",
       "  </thead>\n",
       "  <tbody>\n",
       "    <tr>\n",
       "      <th>2021-08-02</th>\n",
       "      <td>519.849976</td>\n",
       "      <td>510.510010</td>\n",
       "      <td>519.000000</td>\n",
       "      <td>515.150024</td>\n",
       "      <td>2096600</td>\n",
       "      <td>515.150024</td>\n",
       "    </tr>\n",
       "    <tr>\n",
       "      <th>2021-08-03</th>\n",
       "      <td>515.630005</td>\n",
       "      <td>505.369995</td>\n",
       "      <td>514.390015</td>\n",
       "      <td>510.820007</td>\n",
       "      <td>2579400</td>\n",
       "      <td>510.820007</td>\n",
       "    </tr>\n",
       "    <tr>\n",
       "      <th>2021-08-04</th>\n",
       "      <td>517.979980</td>\n",
       "      <td>510.369995</td>\n",
       "      <td>513.000000</td>\n",
       "      <td>517.349976</td>\n",
       "      <td>2039400</td>\n",
       "      <td>517.349976</td>\n",
       "    </tr>\n",
       "    <tr>\n",
       "      <th>2021-08-05</th>\n",
       "      <td>525.409973</td>\n",
       "      <td>514.020020</td>\n",
       "      <td>517.130005</td>\n",
       "      <td>524.890015</td>\n",
       "      <td>2556700</td>\n",
       "      <td>524.890015</td>\n",
       "    </tr>\n",
       "    <tr>\n",
       "      <th>2021-08-06</th>\n",
       "      <td>526.840027</td>\n",
       "      <td>519.390015</td>\n",
       "      <td>524.000000</td>\n",
       "      <td>520.549988</td>\n",
       "      <td>1919400</td>\n",
       "      <td>520.549988</td>\n",
       "    </tr>\n",
       "    <tr>\n",
       "      <th>2021-08-09</th>\n",
       "      <td>522.669983</td>\n",
       "      <td>517.989990</td>\n",
       "      <td>521.150024</td>\n",
       "      <td>519.969971</td>\n",
       "      <td>1367800</td>\n",
       "      <td>519.969971</td>\n",
       "    </tr>\n",
       "    <tr>\n",
       "      <th>2021-08-10</th>\n",
       "      <td>520.789978</td>\n",
       "      <td>512.969971</td>\n",
       "      <td>520.000000</td>\n",
       "      <td>515.840027</td>\n",
       "      <td>1960500</td>\n",
       "      <td>515.840027</td>\n",
       "    </tr>\n",
       "    <tr>\n",
       "      <th>2021-08-11</th>\n",
       "      <td>519.570007</td>\n",
       "      <td>509.769989</td>\n",
       "      <td>517.000000</td>\n",
       "      <td>512.400024</td>\n",
       "      <td>1673900</td>\n",
       "      <td>512.400024</td>\n",
       "    </tr>\n",
       "    <tr>\n",
       "      <th>2021-08-12</th>\n",
       "      <td>513.000000</td>\n",
       "      <td>507.200012</td>\n",
       "      <td>511.859985</td>\n",
       "      <td>510.720001</td>\n",
       "      <td>1685700</td>\n",
       "      <td>510.720001</td>\n",
       "    </tr>\n",
       "    <tr>\n",
       "      <th>2021-08-13</th>\n",
       "      <td>521.440002</td>\n",
       "      <td>511.510010</td>\n",
       "      <td>512.640015</td>\n",
       "      <td>515.919983</td>\n",
       "      <td>2176300</td>\n",
       "      <td>515.919983</td>\n",
       "    </tr>\n",
       "    <tr>\n",
       "      <th>2021-08-16</th>\n",
       "      <td>523.380005</td>\n",
       "      <td>512.299988</td>\n",
       "      <td>515.239990</td>\n",
       "      <td>517.919983</td>\n",
       "      <td>2032800</td>\n",
       "      <td>517.919983</td>\n",
       "    </tr>\n",
       "    <tr>\n",
       "      <th>2021-08-17</th>\n",
       "      <td>520.789978</td>\n",
       "      <td>514.200012</td>\n",
       "      <td>515.469971</td>\n",
       "      <td>518.909973</td>\n",
       "      <td>2309800</td>\n",
       "      <td>518.909973</td>\n",
       "    </tr>\n",
       "    <tr>\n",
       "      <th>2021-08-18</th>\n",
       "      <td>526.380005</td>\n",
       "      <td>518.650024</td>\n",
       "      <td>520.000000</td>\n",
       "      <td>521.869995</td>\n",
       "      <td>2582000</td>\n",
       "      <td>521.869995</td>\n",
       "    </tr>\n",
       "    <tr>\n",
       "      <th>2021-08-19</th>\n",
       "      <td>548.390015</td>\n",
       "      <td>521.869995</td>\n",
       "      <td>522.739990</td>\n",
       "      <td>543.710022</td>\n",
       "      <td>7497300</td>\n",
       "      <td>543.710022</td>\n",
       "    </tr>\n",
       "    <tr>\n",
       "      <th>2021-08-20</th>\n",
       "      <td>551.390015</td>\n",
       "      <td>539.099976</td>\n",
       "      <td>545.090027</td>\n",
       "      <td>546.880005</td>\n",
       "      <td>3774300</td>\n",
       "      <td>546.880005</td>\n",
       "    </tr>\n",
       "    <tr>\n",
       "      <th>2021-08-23</th>\n",
       "      <td>555.549988</td>\n",
       "      <td>543.739990</td>\n",
       "      <td>545.979980</td>\n",
       "      <td>553.330017</td>\n",
       "      <td>2602000</td>\n",
       "      <td>553.330017</td>\n",
       "    </tr>\n",
       "    <tr>\n",
       "      <th>2021-08-24</th>\n",
       "      <td>555.309998</td>\n",
       "      <td>549.270020</td>\n",
       "      <td>551.479980</td>\n",
       "      <td>553.409973</td>\n",
       "      <td>2109500</td>\n",
       "      <td>553.409973</td>\n",
       "    </tr>\n",
       "    <tr>\n",
       "      <th>2021-08-25</th>\n",
       "      <td>552.840027</td>\n",
       "      <td>545.450012</td>\n",
       "      <td>550.159973</td>\n",
       "      <td>547.580017</td>\n",
       "      <td>2065600</td>\n",
       "      <td>547.580017</td>\n",
       "    </tr>\n",
       "    <tr>\n",
       "      <th>2021-08-26</th>\n",
       "      <td>552.599976</td>\n",
       "      <td>545.900024</td>\n",
       "      <td>546.159973</td>\n",
       "      <td>550.119995</td>\n",
       "      <td>1595500</td>\n",
       "      <td>550.119995</td>\n",
       "    </tr>\n",
       "    <tr>\n",
       "      <th>2021-08-27</th>\n",
       "      <td>564.169983</td>\n",
       "      <td>549.250000</td>\n",
       "      <td>551.599976</td>\n",
       "      <td>558.919983</td>\n",
       "      <td>3251100</td>\n",
       "      <td>558.919983</td>\n",
       "    </tr>\n",
       "    <tr>\n",
       "      <th>2021-08-30</th>\n",
       "      <td>567.159973</td>\n",
       "      <td>556.450012</td>\n",
       "      <td>557.250000</td>\n",
       "      <td>566.179993</td>\n",
       "      <td>2434800</td>\n",
       "      <td>566.179993</td>\n",
       "    </tr>\n",
       "    <tr>\n",
       "      <th>2021-08-31</th>\n",
       "      <td>569.479980</td>\n",
       "      <td>561.609985</td>\n",
       "      <td>566.119995</td>\n",
       "      <td>569.190002</td>\n",
       "      <td>2431900</td>\n",
       "      <td>569.190002</td>\n",
       "    </tr>\n",
       "  </tbody>\n",
       "</table>\n",
       "</div>"
      ],
      "text/plain": [
       "                  High         Low        Open       Close   Volume  \\\n",
       "Date                                                                  \n",
       "2021-08-02  519.849976  510.510010  519.000000  515.150024  2096600   \n",
       "2021-08-03  515.630005  505.369995  514.390015  510.820007  2579400   \n",
       "2021-08-04  517.979980  510.369995  513.000000  517.349976  2039400   \n",
       "2021-08-05  525.409973  514.020020  517.130005  524.890015  2556700   \n",
       "2021-08-06  526.840027  519.390015  524.000000  520.549988  1919400   \n",
       "2021-08-09  522.669983  517.989990  521.150024  519.969971  1367800   \n",
       "2021-08-10  520.789978  512.969971  520.000000  515.840027  1960500   \n",
       "2021-08-11  519.570007  509.769989  517.000000  512.400024  1673900   \n",
       "2021-08-12  513.000000  507.200012  511.859985  510.720001  1685700   \n",
       "2021-08-13  521.440002  511.510010  512.640015  515.919983  2176300   \n",
       "2021-08-16  523.380005  512.299988  515.239990  517.919983  2032800   \n",
       "2021-08-17  520.789978  514.200012  515.469971  518.909973  2309800   \n",
       "2021-08-18  526.380005  518.650024  520.000000  521.869995  2582000   \n",
       "2021-08-19  548.390015  521.869995  522.739990  543.710022  7497300   \n",
       "2021-08-20  551.390015  539.099976  545.090027  546.880005  3774300   \n",
       "2021-08-23  555.549988  543.739990  545.979980  553.330017  2602000   \n",
       "2021-08-24  555.309998  549.270020  551.479980  553.409973  2109500   \n",
       "2021-08-25  552.840027  545.450012  550.159973  547.580017  2065600   \n",
       "2021-08-26  552.599976  545.900024  546.159973  550.119995  1595500   \n",
       "2021-08-27  564.169983  549.250000  551.599976  558.919983  3251100   \n",
       "2021-08-30  567.159973  556.450012  557.250000  566.179993  2434800   \n",
       "2021-08-31  569.479980  561.609985  566.119995  569.190002  2431900   \n",
       "\n",
       "             Adj Close  \n",
       "Date                    \n",
       "2021-08-02  515.150024  \n",
       "2021-08-03  510.820007  \n",
       "2021-08-04  517.349976  \n",
       "2021-08-05  524.890015  \n",
       "2021-08-06  520.549988  \n",
       "2021-08-09  519.969971  \n",
       "2021-08-10  515.840027  \n",
       "2021-08-11  512.400024  \n",
       "2021-08-12  510.720001  \n",
       "2021-08-13  515.919983  \n",
       "2021-08-16  517.919983  \n",
       "2021-08-17  518.909973  \n",
       "2021-08-18  521.869995  \n",
       "2021-08-19  543.710022  \n",
       "2021-08-20  546.880005  \n",
       "2021-08-23  553.330017  \n",
       "2021-08-24  553.409973  \n",
       "2021-08-25  547.580017  \n",
       "2021-08-26  550.119995  \n",
       "2021-08-27  558.919983  \n",
       "2021-08-30  566.179993  \n",
       "2021-08-31  569.190002  "
      ]
     },
     "execution_count": 9,
     "metadata": {},
     "output_type": "execute_result"
    }
   ],
   "source": [
    "#shows only values for the month of august, only apllicable for date axis\n",
    "stock['2021-08']"
   ]
  },
  {
   "cell_type": "code",
   "execution_count": 10,
   "metadata": {},
   "outputs": [],
   "source": [
    "new_stock=['NFLX','AMZN']"
   ]
  },
  {
   "cell_type": "code",
   "execution_count": 11,
   "metadata": {},
   "outputs": [],
   "source": [
    "import datetime as dt"
   ]
  },
  {
   "cell_type": "code",
   "execution_count": 12,
   "metadata": {},
   "outputs": [],
   "source": [
    "start_1='2019-07-01'\n",
    "end_1=dt.datetime.today()"
   ]
  },
  {
   "cell_type": "code",
   "execution_count": 13,
   "metadata": {},
   "outputs": [],
   "source": [
    "stocks=dr.DataReader(new_stock,'yahoo',start_1,end_1)"
   ]
  },
  {
   "cell_type": "code",
   "execution_count": 14,
   "metadata": {},
   "outputs": [
    {
     "data": {
      "text/html": [
       "<div>\n",
       "<style scoped>\n",
       "    .dataframe tbody tr th:only-of-type {\n",
       "        vertical-align: middle;\n",
       "    }\n",
       "\n",
       "    .dataframe tbody tr th {\n",
       "        vertical-align: top;\n",
       "    }\n",
       "\n",
       "    .dataframe thead tr th {\n",
       "        text-align: left;\n",
       "    }\n",
       "\n",
       "    .dataframe thead tr:last-of-type th {\n",
       "        text-align: right;\n",
       "    }\n",
       "</style>\n",
       "<table border=\"1\" class=\"dataframe\">\n",
       "  <thead>\n",
       "    <tr>\n",
       "      <th>Attributes</th>\n",
       "      <th colspan=\"2\" halign=\"left\">Adj Close</th>\n",
       "      <th colspan=\"2\" halign=\"left\">Close</th>\n",
       "      <th colspan=\"2\" halign=\"left\">High</th>\n",
       "      <th colspan=\"2\" halign=\"left\">Low</th>\n",
       "      <th colspan=\"2\" halign=\"left\">Open</th>\n",
       "      <th colspan=\"2\" halign=\"left\">Volume</th>\n",
       "    </tr>\n",
       "    <tr>\n",
       "      <th>Symbols</th>\n",
       "      <th>NFLX</th>\n",
       "      <th>AMZN</th>\n",
       "      <th>NFLX</th>\n",
       "      <th>AMZN</th>\n",
       "      <th>NFLX</th>\n",
       "      <th>AMZN</th>\n",
       "      <th>NFLX</th>\n",
       "      <th>AMZN</th>\n",
       "      <th>NFLX</th>\n",
       "      <th>AMZN</th>\n",
       "      <th>NFLX</th>\n",
       "      <th>AMZN</th>\n",
       "    </tr>\n",
       "    <tr>\n",
       "      <th>Date</th>\n",
       "      <th></th>\n",
       "      <th></th>\n",
       "      <th></th>\n",
       "      <th></th>\n",
       "      <th></th>\n",
       "      <th></th>\n",
       "      <th></th>\n",
       "      <th></th>\n",
       "      <th></th>\n",
       "      <th></th>\n",
       "      <th></th>\n",
       "      <th></th>\n",
       "    </tr>\n",
       "  </thead>\n",
       "  <tbody>\n",
       "    <tr>\n",
       "      <th>2019-07-01</th>\n",
       "      <td>374.600006</td>\n",
       "      <td>1922.189941</td>\n",
       "      <td>374.600006</td>\n",
       "      <td>1922.189941</td>\n",
       "      <td>376.660004</td>\n",
       "      <td>1929.819946</td>\n",
       "      <td>372.000000</td>\n",
       "      <td>1914.660034</td>\n",
       "      <td>373.500000</td>\n",
       "      <td>1922.979980</td>\n",
       "      <td>4992600</td>\n",
       "      <td>3192100</td>\n",
       "    </tr>\n",
       "    <tr>\n",
       "      <th>2019-07-02</th>\n",
       "      <td>375.429993</td>\n",
       "      <td>1934.310059</td>\n",
       "      <td>375.429993</td>\n",
       "      <td>1934.310059</td>\n",
       "      <td>376.000000</td>\n",
       "      <td>1934.790039</td>\n",
       "      <td>370.309998</td>\n",
       "      <td>1906.630005</td>\n",
       "      <td>374.890015</td>\n",
       "      <td>1919.380005</td>\n",
       "      <td>3625000</td>\n",
       "      <td>2645900</td>\n",
       "    </tr>\n",
       "    <tr>\n",
       "      <th>2019-07-03</th>\n",
       "      <td>381.720001</td>\n",
       "      <td>1939.000000</td>\n",
       "      <td>381.720001</td>\n",
       "      <td>1939.000000</td>\n",
       "      <td>381.989990</td>\n",
       "      <td>1941.589966</td>\n",
       "      <td>375.839996</td>\n",
       "      <td>1930.500000</td>\n",
       "      <td>376.690002</td>\n",
       "      <td>1935.890015</td>\n",
       "      <td>3799000</td>\n",
       "      <td>1690300</td>\n",
       "    </tr>\n",
       "    <tr>\n",
       "      <th>2019-07-05</th>\n",
       "      <td>380.549988</td>\n",
       "      <td>1942.910034</td>\n",
       "      <td>380.549988</td>\n",
       "      <td>1942.910034</td>\n",
       "      <td>381.399994</td>\n",
       "      <td>1945.900024</td>\n",
       "      <td>375.559998</td>\n",
       "      <td>1925.300049</td>\n",
       "      <td>378.290009</td>\n",
       "      <td>1928.599976</td>\n",
       "      <td>3732200</td>\n",
       "      <td>2628400</td>\n",
       "    </tr>\n",
       "    <tr>\n",
       "      <th>2019-07-08</th>\n",
       "      <td>376.160004</td>\n",
       "      <td>1952.319946</td>\n",
       "      <td>376.160004</td>\n",
       "      <td>1952.319946</td>\n",
       "      <td>378.250000</td>\n",
       "      <td>1956.000000</td>\n",
       "      <td>375.359985</td>\n",
       "      <td>1928.250000</td>\n",
       "      <td>378.190002</td>\n",
       "      <td>1934.119995</td>\n",
       "      <td>3113400</td>\n",
       "      <td>2883400</td>\n",
       "    </tr>\n",
       "  </tbody>\n",
       "</table>\n",
       "</div>"
      ],
      "text/plain": [
       "Attributes   Adj Close                    Close                     High  \\\n",
       "Symbols           NFLX         AMZN        NFLX         AMZN        NFLX   \n",
       "Date                                                                       \n",
       "2019-07-01  374.600006  1922.189941  374.600006  1922.189941  376.660004   \n",
       "2019-07-02  375.429993  1934.310059  375.429993  1934.310059  376.000000   \n",
       "2019-07-03  381.720001  1939.000000  381.720001  1939.000000  381.989990   \n",
       "2019-07-05  380.549988  1942.910034  380.549988  1942.910034  381.399994   \n",
       "2019-07-08  376.160004  1952.319946  376.160004  1952.319946  378.250000   \n",
       "\n",
       "Attributes                      Low                     Open               \\\n",
       "Symbols            AMZN        NFLX         AMZN        NFLX         AMZN   \n",
       "Date                                                                        \n",
       "2019-07-01  1929.819946  372.000000  1914.660034  373.500000  1922.979980   \n",
       "2019-07-02  1934.790039  370.309998  1906.630005  374.890015  1919.380005   \n",
       "2019-07-03  1941.589966  375.839996  1930.500000  376.690002  1935.890015   \n",
       "2019-07-05  1945.900024  375.559998  1925.300049  378.290009  1928.599976   \n",
       "2019-07-08  1956.000000  375.359985  1928.250000  378.190002  1934.119995   \n",
       "\n",
       "Attributes   Volume           \n",
       "Symbols        NFLX     AMZN  \n",
       "Date                          \n",
       "2019-07-01  4992600  3192100  \n",
       "2019-07-02  3625000  2645900  \n",
       "2019-07-03  3799000  1690300  \n",
       "2019-07-05  3732200  2628400  \n",
       "2019-07-08  3113400  2883400  "
      ]
     },
     "execution_count": 14,
     "metadata": {},
     "output_type": "execute_result"
    }
   ],
   "source": [
    "stocks.head(5)"
   ]
  },
  {
   "cell_type": "code",
   "execution_count": 15,
   "metadata": {},
   "outputs": [
    {
     "data": {
      "text/plain": [
       "<AxesSubplot:xlabel='Date'>"
      ]
     },
     "execution_count": 15,
     "metadata": {},
     "output_type": "execute_result"
    },
    {
     "data": {
      "image/png": "[encoded data removed]",
      "text/plain": [
       "<Figure size 1080x360 with 1 Axes>"
      ]
     },
     "metadata": {
      "needs_background": "light"
     },
     "output_type": "display_data"
    }
   ],
   "source": [
    "stocks['Close'].plot(figsize=(15,5))"
   ]
  },
  {
   "cell_type": "code",
   "execution_count": 16,
   "metadata": {},
   "outputs": [],
   "source": [
    "import matplotlib.pyplot as plt\n",
    "from sklearn.preprocessing import MinMaxScaler\n",
    "from tensorflow.keras.models import Sequential\n",
    "from tensorflow.keras.layers import Dense, Dropout, LSTM"
   ]
  },
  {
   "cell_type": "code",
   "execution_count": 17,
   "metadata": {},
   "outputs": [],
   "source": [
    "start_s=dt.datetime(2018,1,1)\n",
    "end_s=dt.datetime(2020,12,31)"
   ]
  },
  {
   "cell_type": "code",
   "execution_count": 18,
   "metadata": {},
   "outputs": [],
   "source": [
    "stock1=dr.DataReader('TSLA','yahoo',start_s,end_s)"
   ]
  },
  {
   "cell_type": "code",
   "execution_count": 19,
   "metadata": {},
   "outputs": [
    {
     "data": {
      "text/html": [
       "<div>\n",
       "<style scoped>\n",
       "    .dataframe tbody tr th:only-of-type {\n",
       "        vertical-align: middle;\n",
       "    }\n",
       "\n",
       "    .dataframe tbody tr th {\n",
       "        vertical-align: top;\n",
       "    }\n",
       "\n",
       "    .dataframe thead th {\n",
       "        text-align: right;\n",
       "    }\n",
       "</style>\n",
       "<table border=\"1\" class=\"dataframe\">\n",
       "  <thead>\n",
       "    <tr style=\"text-align: right;\">\n",
       "      <th></th>\n",
       "      <th>High</th>\n",
       "      <th>Low</th>\n",
       "      <th>Open</th>\n",
       "      <th>Close</th>\n",
       "      <th>Volume</th>\n",
       "      <th>Adj Close</th>\n",
       "    </tr>\n",
       "    <tr>\n",
       "      <th>Date</th>\n",
       "      <th></th>\n",
       "      <th></th>\n",
       "      <th></th>\n",
       "      <th></th>\n",
       "      <th></th>\n",
       "      <th></th>\n",
       "    </tr>\n",
       "  </thead>\n",
       "  <tbody>\n",
       "    <tr>\n",
       "      <th>2020-12-30</th>\n",
       "      <td>696.599976</td>\n",
       "      <td>668.359985</td>\n",
       "      <td>672.00000</td>\n",
       "      <td>694.780029</td>\n",
       "      <td>42846000.0</td>\n",
       "      <td>694.780029</td>\n",
       "    </tr>\n",
       "    <tr>\n",
       "      <th>2020-12-31</th>\n",
       "      <td>718.719971</td>\n",
       "      <td>691.119995</td>\n",
       "      <td>699.98999</td>\n",
       "      <td>705.669983</td>\n",
       "      <td>49649900.0</td>\n",
       "      <td>705.669983</td>\n",
       "    </tr>\n",
       "  </tbody>\n",
       "</table>\n",
       "</div>"
      ],
      "text/plain": [
       "                  High         Low       Open       Close      Volume  \\\n",
       "Date                                                                    \n",
       "2020-12-30  696.599976  668.359985  672.00000  694.780029  42846000.0   \n",
       "2020-12-31  718.719971  691.119995  699.98999  705.669983  49649900.0   \n",
       "\n",
       "             Adj Close  \n",
       "Date                    \n",
       "2020-12-30  694.780029  \n",
       "2020-12-31  705.669983  "
      ]
     },
     "execution_count": 19,
     "metadata": {},
     "output_type": "execute_result"
    }
   ],
   "source": [
    "stock1.tail(2)"
   ]
  },
  {
   "cell_type": "code",
   "execution_count": 20,
   "metadata": {},
   "outputs": [],
   "source": [
    "#data preprocessing, scaling bw 0 and 1\n",
    "scaler=MinMaxScaler(feature_range=(0,1))\n",
    "scaled_data=scaler.fit_transform(stock1['Close'].values.reshape(-1,1))"
   ]
  },
  {
   "cell_type": "code",
   "execution_count": 21,
   "metadata": {},
   "outputs": [],
   "source": [
    "#variable for number of days back for prediction\n",
    "pred_days=100"
   ]
  },
  {
   "cell_type": "code",
   "execution_count": 22,
   "metadata": {},
   "outputs": [],
   "source": [
    "x_train=[]\n",
    "y_train=[]"
   ]
  },
  {
   "cell_type": "code",
   "execution_count": 23,
   "metadata": {},
   "outputs": [],
   "source": [
    "for x in range(pred_days,len(scaled_data)):\n",
    "    x_train.append(scaled_data[x-pred_days:x,0])\n",
    "    y_train.append(scaled_data[x:0])"
   ]
  },
  {
   "cell_type": "code",
   "execution_count": 24,
   "metadata": {},
   "outputs": [],
   "source": [
    "x_train,y_train=np.array(x_train),np.array(y_train)"
   ]
  },
  {
   "cell_type": "code",
   "execution_count": 25,
   "metadata": {},
   "outputs": [],
   "source": [
    "x_train=np.reshape(x_train,(x_train.shape[0],x_train.shape[1],1))"
   ]
  },
  {
   "cell_type": "code",
   "execution_count": 26,
   "metadata": {},
   "outputs": [],
   "source": [
    "#model\n",
    "model=Sequential()"
   ]
  },
  {
   "cell_type": "code",
   "execution_count": 27,
   "metadata": {},
   "outputs": [],
   "source": [
    "model.add(LSTM(units=50,return_sequences=True,input_shape=(x_train.shape[1],1)))\n",
    "model.add(Dropout(0.2))\n",
    "model.add(LSTM(units=50,return_sequences=True))\n",
    "model.add(Dropout(0.2))\n",
    "model.add(LSTM(units=50))\n",
    "model.add(Dropout(0.2))\n",
    "model.add(Dense(units=1))  #prediction of next value"
   ]
  },
  {
   "cell_type": "code",
   "execution_count": 28,
   "metadata": {},
   "outputs": [],
   "source": [
    "model.compile(optimizer='adam',loss='mean_squared_error')"
   ]
  },
  {
   "cell_type": "code",
   "execution_count": 29,
   "metadata": {},
   "outputs": [
    {
     "name": "stdout",
     "output_type": "stream",
     "text": [
      "Epoch 1/25\n",
      "21/21 [==============================] - 14s 209ms/step - loss: nan\n",
      "Epoch 2/25\n",
      "21/21 [==============================] - 4s 165ms/step - loss: nan\n",
      "Epoch 3/25\n",
      "21/21 [==============================] - 4s 198ms/step - loss: nan\n",
      "Epoch 4/25\n",
      "21/21 [==============================] - 4s 188ms/step - loss: nan\n",
      "Epoch 5/25\n",
      "21/21 [==============================] - 3s 152ms/step - loss: nan\n",
      "Epoch 6/25\n",
      "21/21 [==============================] - 3s 141ms/step - loss: nan\n",
      "Epoch 7/25\n",
      "21/21 [==============================] - 3s 147ms/step - loss: nan\n",
      "Epoch 8/25\n",
      "21/21 [==============================] - 4s 187ms/step - loss: nan\n",
      "Epoch 9/25\n",
      "21/21 [==============================] - 4s 188ms/step - loss: nan\n",
      "Epoch 10/25\n",
      "21/21 [==============================] - 4s 190ms/step - loss: nan\n",
      "Epoch 11/25\n",
      "21/21 [==============================] - 3s 127ms/step - loss: nan\n",
      "Epoch 12/25\n",
      "21/21 [==============================] - 4s 201ms/step - loss: nan\n",
      "Epoch 13/25\n",
      "21/21 [==============================] - 4s 199ms/step - loss: nan\n",
      "Epoch 14/25\n",
      "21/21 [==============================] - 4s 201ms/step - loss: nan\n",
      "Epoch 15/25\n",
      "21/21 [==============================] - 3s 150ms/step - loss: nan\n",
      "Epoch 16/25\n",
      "21/21 [==============================] - 4s 201ms/step - loss: nan\n",
      "Epoch 17/25\n",
      "21/21 [==============================] - 4s 166ms/step - loss: nan\n",
      "Epoch 18/25\n",
      "21/21 [==============================] - 4s 189ms/step - loss: nan\n",
      "Epoch 19/25\n",
      "21/21 [==============================] - 4s 182ms/step - loss: nan\n",
      "Epoch 20/25\n",
      "21/21 [==============================] - 4s 177ms/step - loss: nan\n",
      "Epoch 21/25\n",
      "21/21 [==============================] - 3s 143ms/step - loss: nan\n",
      "Epoch 22/25\n",
      "21/21 [==============================] - 4s 198ms/step - loss: nan\n",
      "Epoch 23/25\n",
      "21/21 [==============================] - 4s 199ms/step - loss: nan\n",
      "Epoch 24/25\n",
      "21/21 [==============================] - 3s 139ms/step - loss: nan\n",
      "Epoch 25/25\n",
      "21/21 [==============================] - 4s 199ms/step - loss: nan\n"
     ]
    },
    {
     "data": {
      "text/plain": [
       "<keras.callbacks.History at 0x208c2de5e20>"
      ]
     },
     "execution_count": 29,
     "metadata": {},
     "output_type": "execute_result"
    }
   ],
   "source": [
    "model.fit(x_train,y_train,epochs=25,batch_size=32)"
   ]
  },
  {
   "cell_type": "code",
   "execution_count": 30,
   "metadata": {},
   "outputs": [],
   "source": [
    "###Testing the model accuracy\n",
    "###Existing data\n",
    "test_start=dt.datetime(2020,12,31)\n",
    "test_end=dt.datetime.now()"
   ]
  },
  {
   "cell_type": "code",
   "execution_count": 31,
   "metadata": {},
   "outputs": [],
   "source": [
    "test_data=dr.DataReader('TSLA','yahoo',test_start,test_end)"
   ]
  },
  {
   "cell_type": "code",
   "execution_count": 32,
   "metadata": {},
   "outputs": [],
   "source": [
    "actual_price=test_data['Close'].values"
   ]
  },
  {
   "cell_type": "code",
   "execution_count": 33,
   "metadata": {},
   "outputs": [],
   "source": [
    "total_dataset=pd.concat((stock1['Close'],test_data['Close']),axis=0)"
   ]
  },
  {
   "cell_type": "code",
   "execution_count": 34,
   "metadata": {},
   "outputs": [],
   "source": [
    "model_inputs=total_dataset[len(total_dataset)-len(test_data)-pred_days:].values\n",
    "model_inputs=model_inputs.reshape(-1,1)\n",
    "model_inputs=scaler.transform(model_inputs)"
   ]
  },
  {
   "cell_type": "code",
   "execution_count": 35,
   "metadata": {},
   "outputs": [],
   "source": [
    "x_test=[]"
   ]
  },
  {
   "cell_type": "code",
   "execution_count": 36,
   "metadata": {},
   "outputs": [],
   "source": [
    "#predictions in test data\n",
    "for x in range(pred_days,len(model_inputs)):\n",
    "    x_test.append(model_inputs[x-pred_days:x,0])"
   ]
  },
  {
   "cell_type": "code",
   "execution_count": 37,
   "metadata": {},
   "outputs": [],
   "source": [
    "x_test=np.array(x_test)"
   ]
  },
  {
   "cell_type": "code",
   "execution_count": 38,
   "metadata": {},
   "outputs": [],
   "source": [
    "x_test=np.reshape(x_test,(x_test.shape[0],x_test.shape[1],1))"
   ]
  },
  {
   "cell_type": "code",
   "execution_count": 39,
   "metadata": {},
   "outputs": [],
   "source": [
    "predicted_prices=model.predict(x_test)\n",
    "predicted_prices=scaler.inverse_transform(predicted_prices)"
   ]
  },
  {
   "cell_type": "code",
   "execution_count": 40,
   "metadata": {},
   "outputs": [
    {
     "data": {
      "image/png": "[encoded data removed]",
      "text/plain": [
       "<Figure size 432x288 with 1 Axes>"
      ]
     },
     "metadata": {
      "needs_background": "light"
     },
     "output_type": "display_data"
    }
   ],
   "source": [
    "#plotting\n",
    "plt.plot(actual_price,color='red',label=f' Actual TSLA share price')\n",
    "plt.plot(predicted_prices,color='blue',label=f' Predicted TSLA share price')\n",
    "plt.xlabel('Time')\n",
    "plt.ylabel('TSLA shareprice')\n",
    "plt.legend()\n",
    "plt.show()"
   ]
  },
  {
   "cell_type": "code",
   "execution_count": 41,
   "metadata": {},
   "outputs": [],
   "source": [
    "real_data=[model_inputs[len(model_inputs)+1 - pred_days:len(model_inputs+1),0]]"
   ]
  },
  {
   "cell_type": "code",
   "execution_count": 42,
   "metadata": {},
   "outputs": [],
   "source": [
    "real_data=np.array(real_data)"
   ]
  },
  {
   "cell_type": "code",
   "execution_count": 43,
   "metadata": {},
   "outputs": [],
   "source": [
    "real_data=np.reshape(real_data, (real_data.shape[0], real_data.shape[1],1))"
   ]
  },
  {
   "cell_type": "code",
   "execution_count": 44,
   "metadata": {},
   "outputs": [
    {
     "name": "stdout",
     "output_type": "stream",
     "text": [
      "WARNING:tensorflow:Model was constructed with shape (None, 100, 1) for input KerasTensor(type_spec=TensorSpec(shape=(None, 100, 1), dtype=tf.float32, name='lstm_input'), name='lstm_input', description=\"created by layer 'lstm_input'\"), but it was called on an input with incompatible shape (None, 99, 1).\n"
     ]
    }
   ],
   "source": [
    "prediction=model.predict(real_data)"
   ]
  },
  {
   "cell_type": "code",
   "execution_count": 45,
   "metadata": {},
   "outputs": [],
   "source": [
    "prediction=scaler.inverse_transform(prediction)"
   ]
  },
  {
   "cell_type": "code",
   "execution_count": 46,
   "metadata": {},
   "outputs": [
    {
     "name": "stdout",
     "output_type": "stream",
     "text": [
      "Prediction: [[27.193071]]\n"
     ]
    }
   ],
   "source": [
    "print(f\"Prediction: {prediction}\")"
   ]
  },
  {
   "cell_type": "code",
   "execution_count": 47,
   "metadata": {},
   "outputs": [],
   "source": [
    "stock=stock.reset_index()['Close']"
   ]
  },
  {
   "cell_type": "code",
   "execution_count": 48,
   "metadata": {},
   "outputs": [
    {
     "data": {
      "text/plain": [
       "[<matplotlib.lines.Line2D at 0x208c554b7c0>]"
      ]
     },
     "execution_count": 48,
     "metadata": {},
     "output_type": "execute_result"
    },
    {
     "data": {
      "image/png": "[encoded data removed]",
      "text/plain": [
       "<Figure size 432x288 with 1 Axes>"
      ]
     },
     "metadata": {
      "needs_background": "light"
     },
     "output_type": "display_data"
    }
   ],
   "source": [
    "plt.plot(stock)"
   ]
  },
  {
   "cell_type": "code",
   "execution_count": 49,
   "metadata": {},
   "outputs": [],
   "source": [
    "# new analysis using Arimax"
   ]
  },
  {
   "cell_type": "code",
   "execution_count": 50,
   "metadata": {},
   "outputs": [],
   "source": [
    "stocks_n=dr.data.get_data_yahoo('NFLX',start='2020-07-01',end='2021-07-01')"
   ]
  },
  {
   "cell_type": "code",
   "execution_count": 51,
   "metadata": {},
   "outputs": [],
   "source": [
    "from statsmodels.tsa.stattools import adfuller"
   ]
  },
  {
   "cell_type": "code",
   "execution_count": 52,
   "metadata": {},
   "outputs": [],
   "source": [
    "def ad_test(stocks1):\n",
    "    dftest=adfuller(stocks1, autolag='AIC')\n",
    "    print('1. ADF: ', dftest[0])\n",
    "    print('2. P- Value: ', dftest[1])\n",
    "    print('3. No. Of Lags: ', dftest[2])\n",
    "    print('4. No. of observations used for ADF Regression and Critical value calculation: ', dftest[3])\n",
    "    print('5. Critical Values: ')\n",
    "    for key,values in dftest[4].items():\n",
    "        print('\\t',key,\": \",values)\n",
    "    "
   ]
  },
  {
   "cell_type": "code",
   "execution_count": 53,
   "metadata": {},
   "outputs": [
    {
     "name": "stdout",
     "output_type": "stream",
     "text": [
      "1. ADF:  -4.114625987155927\n",
      "2. P- Value:  0.0009159924457884485\n",
      "3. No. Of Lags:  4\n",
      "4. No. of observations used for ADF Regression and Critical value calculation:  249\n",
      "5. Critical Values: \n",
      "\t 1% :  -3.4568881317725864\n",
      "\t 5% :  -2.8732185133016057\n",
      "\t 10% :  -2.5729936189738876\n"
     ]
    }
   ],
   "source": [
    "ad_test(stocks_n['Close'])"
   ]
  },
  {
   "cell_type": "code",
   "execution_count": 54,
   "metadata": {},
   "outputs": [],
   "source": [
    "#arima model"
   ]
  },
  {
   "cell_type": "code",
   "execution_count": 55,
   "metadata": {},
   "outputs": [],
   "source": [
    "from pmdarima import auto_arima\n",
    "import warnings\n",
    "warnings.filterwarnings('ignore')"
   ]
  },
  {
   "cell_type": "code",
   "execution_count": 56,
   "metadata": {},
   "outputs": [
    {
     "name": "stdout",
     "output_type": "stream",
     "text": [
      "Performing stepwise search to minimize aic\n",
      " ARIMA(2,1,2)(0,0,0)[0] intercept   : AIC=inf, Time=1.20 sec\n",
      " ARIMA(0,1,0)(0,0,0)[0] intercept   : AIC=2029.493, Time=0.03 sec\n",
      " ARIMA(1,1,0)(0,0,0)[0] intercept   : AIC=2024.595, Time=0.16 sec\n",
      " ARIMA(0,1,1)(0,0,0)[0] intercept   : AIC=2023.899, Time=0.18 sec\n",
      " ARIMA(0,1,0)(0,0,0)[0]             : AIC=2027.632, Time=0.02 sec\n",
      " ARIMA(1,1,1)(0,0,0)[0] intercept   : AIC=2025.480, Time=0.24 sec\n",
      " ARIMA(0,1,2)(0,0,0)[0] intercept   : AIC=2025.595, Time=0.27 sec\n",
      " ARIMA(1,1,2)(0,0,0)[0] intercept   : AIC=2022.208, Time=0.38 sec\n",
      " ARIMA(1,1,3)(0,0,0)[0] intercept   : AIC=2017.548, Time=0.51 sec\n",
      " ARIMA(0,1,3)(0,0,0)[0] intercept   : AIC=2026.311, Time=0.32 sec\n",
      " ARIMA(2,1,3)(0,0,0)[0] intercept   : AIC=2017.993, Time=0.87 sec\n",
      " ARIMA(1,1,4)(0,0,0)[0] intercept   : AIC=2017.478, Time=0.71 sec\n",
      " ARIMA(0,1,4)(0,0,0)[0] intercept   : AIC=2021.083, Time=0.40 sec\n",
      " ARIMA(2,1,4)(0,0,0)[0] intercept   : AIC=2019.463, Time=0.87 sec\n",
      " ARIMA(1,1,5)(0,0,0)[0] intercept   : AIC=inf, Time=1.27 sec\n",
      " ARIMA(0,1,5)(0,0,0)[0] intercept   : AIC=2016.516, Time=0.35 sec\n",
      " ARIMA(0,1,5)(0,0,0)[0]             : AIC=2014.718, Time=0.25 sec\n",
      " ARIMA(0,1,4)(0,0,0)[0]             : AIC=2019.253, Time=0.19 sec\n",
      " ARIMA(1,1,5)(0,0,0)[0]             : AIC=2009.258, Time=0.55 sec\n",
      " ARIMA(1,1,4)(0,0,0)[0]             : AIC=2015.657, Time=0.32 sec\n",
      " ARIMA(2,1,5)(0,0,0)[0]             : AIC=2008.895, Time=0.85 sec\n",
      " ARIMA(2,1,4)(0,0,0)[0]             : AIC=2017.644, Time=0.42 sec\n",
      " ARIMA(3,1,5)(0,0,0)[0]             : AIC=2014.955, Time=1.42 sec\n",
      " ARIMA(3,1,4)(0,0,0)[0]             : AIC=2014.759, Time=0.56 sec\n",
      " ARIMA(2,1,5)(0,0,0)[0] intercept   : AIC=inf, Time=1.44 sec\n",
      "\n",
      "Best model:  ARIMA(2,1,5)(0,0,0)[0]          \n",
      "Total fit time: 13.863 seconds\n"
     ]
    },
    {
     "data": {
      "text/html": [
       "<table class=\"simpletable\">\n",
       "<caption>SARIMAX Results</caption>\n",
       "<tr>\n",
       "  <th>Dep. Variable:</th>           <td>y</td>        <th>  No. Observations:  </th>    <td>254</td>  \n",
       "</tr>\n",
       "<tr>\n",
       "  <th>Model:</th>           <td>SARIMAX(2, 1, 5)</td> <th>  Log Likelihood     </th> <td>-996.447</td>\n",
       "</tr>\n",
       "<tr>\n",
       "  <th>Date:</th>            <td>Sat, 04 Sep 2021</td> <th>  AIC                </th> <td>2008.895</td>\n",
       "</tr>\n",
       "<tr>\n",
       "  <th>Time:</th>                <td>11:20:13</td>     <th>  BIC                </th> <td>2037.162</td>\n",
       "</tr>\n",
       "<tr>\n",
       "  <th>Sample:</th>                  <td>0</td>        <th>  HQIC               </th> <td>2020.267</td>\n",
       "</tr>\n",
       "<tr>\n",
       "  <th></th>                      <td> - 254</td>      <th>                     </th>     <td> </td>   \n",
       "</tr>\n",
       "<tr>\n",
       "  <th>Covariance Type:</th>        <td>opg</td>       <th>                     </th>     <td> </td>   \n",
       "</tr>\n",
       "</table>\n",
       "<table class=\"simpletable\">\n",
       "<tr>\n",
       "     <td></td>       <th>coef</th>     <th>std err</th>      <th>z</th>      <th>P>|z|</th>  <th>[0.025</th>    <th>0.975]</th>  \n",
       "</tr>\n",
       "<tr>\n",
       "  <th>ar.L1</th>  <td>    0.2056</td> <td>    0.191</td> <td>    1.074</td> <td> 0.283</td> <td>   -0.170</td> <td>    0.581</td>\n",
       "</tr>\n",
       "<tr>\n",
       "  <th>ar.L2</th>  <td>    0.5335</td> <td>    0.174</td> <td>    3.072</td> <td> 0.002</td> <td>    0.193</td> <td>    0.874</td>\n",
       "</tr>\n",
       "<tr>\n",
       "  <th>ma.L1</th>  <td>   -0.3951</td> <td>    0.183</td> <td>   -2.164</td> <td> 0.030</td> <td>   -0.753</td> <td>   -0.037</td>\n",
       "</tr>\n",
       "<tr>\n",
       "  <th>ma.L2</th>  <td>   -0.5750</td> <td>    0.175</td> <td>   -3.290</td> <td> 0.001</td> <td>   -0.918</td> <td>   -0.233</td>\n",
       "</tr>\n",
       "<tr>\n",
       "  <th>ma.L3</th>  <td>    0.0300</td> <td>    0.115</td> <td>    0.260</td> <td> 0.795</td> <td>   -0.196</td> <td>    0.256</td>\n",
       "</tr>\n",
       "<tr>\n",
       "  <th>ma.L4</th>  <td>    0.1849</td> <td>    0.093</td> <td>    1.978</td> <td> 0.048</td> <td>    0.002</td> <td>    0.368</td>\n",
       "</tr>\n",
       "<tr>\n",
       "  <th>ma.L5</th>  <td>   -0.2104</td> <td>    0.091</td> <td>   -2.321</td> <td> 0.020</td> <td>   -0.388</td> <td>   -0.033</td>\n",
       "</tr>\n",
       "<tr>\n",
       "  <th>sigma2</th> <td>  153.5914</td> <td>    6.310</td> <td>   24.340</td> <td> 0.000</td> <td>  141.223</td> <td>  165.959</td>\n",
       "</tr>\n",
       "</table>\n",
       "<table class=\"simpletable\">\n",
       "<tr>\n",
       "  <th>Ljung-Box (L1) (Q):</th>     <td>0.01</td> <th>  Jarque-Bera (JB):  </th> <td>912.99</td>\n",
       "</tr>\n",
       "<tr>\n",
       "  <th>Prob(Q):</th>                <td>0.90</td> <th>  Prob(JB):          </th>  <td>0.00</td> \n",
       "</tr>\n",
       "<tr>\n",
       "  <th>Heteroskedasticity (H):</th> <td>0.45</td> <th>  Skew:              </th>  <td>1.11</td> \n",
       "</tr>\n",
       "<tr>\n",
       "  <th>Prob(H) (two-sided):</th>    <td>0.00</td> <th>  Kurtosis:          </th>  <td>12.04</td>\n",
       "</tr>\n",
       "</table><br/><br/>Warnings:<br/>[1] Covariance matrix calculated using the outer product of gradients (complex-step)."
      ],
      "text/plain": [
       "<class 'statsmodels.iolib.summary.Summary'>\n",
       "\"\"\"\n",
       "                               SARIMAX Results                                \n",
       "==============================================================================\n",
       "Dep. Variable:                      y   No. Observations:                  254\n",
       "Model:               SARIMAX(2, 1, 5)   Log Likelihood                -996.447\n",
       "Date:                Sat, 04 Sep 2021   AIC                           2008.895\n",
       "Time:                        11:20:13   BIC                           2037.162\n",
       "Sample:                             0   HQIC                          2020.267\n",
       "                                - 254                                         \n",
       "Covariance Type:                  opg                                         \n",
       "==============================================================================\n",
       "                 coef    std err          z      P>|z|      [0.025      0.975]\n",
       "------------------------------------------------------------------------------\n",
       "ar.L1          0.2056      0.191      1.074      0.283      -0.170       0.581\n",
       "ar.L2          0.5335      0.174      3.072      0.002       0.193       0.874\n",
       "ma.L1         -0.3951      0.183     -2.164      0.030      -0.753      -0.037\n",
       "ma.L2         -0.5750      0.175     -3.290      0.001      -0.918      -0.233\n",
       "ma.L3          0.0300      0.115      0.260      0.795      -0.196       0.256\n",
       "ma.L4          0.1849      0.093      1.978      0.048       0.002       0.368\n",
       "ma.L5         -0.2104      0.091     -2.321      0.020      -0.388      -0.033\n",
       "sigma2       153.5914      6.310     24.340      0.000     141.223     165.959\n",
       "===================================================================================\n",
       "Ljung-Box (L1) (Q):                   0.01   Jarque-Bera (JB):               912.99\n",
       "Prob(Q):                              0.90   Prob(JB):                         0.00\n",
       "Heteroskedasticity (H):               0.45   Skew:                             1.11\n",
       "Prob(H) (two-sided):                  0.00   Kurtosis:                        12.04\n",
       "===================================================================================\n",
       "\n",
       "Warnings:\n",
       "[1] Covariance matrix calculated using the outer product of gradients (complex-step).\n",
       "\"\"\""
      ]
     },
     "execution_count": 56,
     "metadata": {},
     "output_type": "execute_result"
    }
   ],
   "source": [
    "stepwise_fit=auto_arima(stocks_n['Close'],trace=True,suppress_warnings=True)\n",
    "stepwise_fit.summary()"
   ]
  },
  {
   "cell_type": "code",
   "execution_count": 57,
   "metadata": {},
   "outputs": [],
   "source": [
    "from statsmodels.tsa.arima_model import ARIMA"
   ]
  },
  {
   "cell_type": "code",
   "execution_count": 58,
   "metadata": {},
   "outputs": [
    {
     "name": "stdout",
     "output_type": "stream",
     "text": [
      "(254, 6)\n",
      "(224, 6) (30, 6)\n"
     ]
    }
   ],
   "source": [
    "#splitting data into train and test\n",
    "print(stocks_n.shape)\n",
    "train=stocks_n.iloc[:-30]\n",
    "test=stocks_n.iloc[-30:]\n",
    "print(train.shape,test.shape)"
   ]
  },
  {
   "cell_type": "code",
   "execution_count": 59,
   "metadata": {},
   "outputs": [
    {
     "data": {
      "text/html": [
       "<table class=\"simpletable\">\n",
       "<caption>ARIMA Model Results</caption>\n",
       "<tr>\n",
       "  <th>Dep. Variable:</th>      <td>D.Close</td>     <th>  No. Observations:  </th>    <td>253</td>  \n",
       "</tr>\n",
       "<tr>\n",
       "  <th>Model:</th>          <td>ARIMA(3, 1, 4)</td>  <th>  Log Likelihood     </th> <td>-999.293</td>\n",
       "</tr>\n",
       "<tr>\n",
       "  <th>Method:</th>             <td>css-mle</td>     <th>  S.D. of innovations</th>  <td>12.554</td> \n",
       "</tr>\n",
       "<tr>\n",
       "  <th>Date:</th>          <td>Sat, 04 Sep 2021</td> <th>  AIC                </th> <td>2016.586</td>\n",
       "</tr>\n",
       "<tr>\n",
       "  <th>Time:</th>              <td>11:20:14</td>     <th>  BIC                </th> <td>2048.386</td>\n",
       "</tr>\n",
       "<tr>\n",
       "  <th>Sample:</th>                <td>1</td>        <th>  HQIC               </th> <td>2029.380</td>\n",
       "</tr>\n",
       "<tr>\n",
       "  <th></th>                       <td> </td>        <th>                     </th>     <td> </td>   \n",
       "</tr>\n",
       "</table>\n",
       "<table class=\"simpletable\">\n",
       "<tr>\n",
       "        <td></td>           <th>coef</th>     <th>std err</th>      <th>z</th>      <th>P>|z|</th>  <th>[0.025</th>    <th>0.975]</th>  \n",
       "</tr>\n",
       "<tr>\n",
       "  <th>const</th>         <td>    0.2890</td> <td>    0.713</td> <td>    0.405</td> <td> 0.685</td> <td>   -1.109</td> <td>    1.687</td>\n",
       "</tr>\n",
       "<tr>\n",
       "  <th>ar.L1.D.Close</th> <td>   -0.7379</td> <td>    0.166</td> <td>   -4.433</td> <td> 0.000</td> <td>   -1.064</td> <td>   -0.412</td>\n",
       "</tr>\n",
       "<tr>\n",
       "  <th>ar.L2.D.Close</th> <td>   -0.6404</td> <td>    0.176</td> <td>   -3.636</td> <td> 0.000</td> <td>   -0.986</td> <td>   -0.295</td>\n",
       "</tr>\n",
       "<tr>\n",
       "  <th>ar.L3.D.Close</th> <td>   -0.6892</td> <td>    0.154</td> <td>   -4.489</td> <td> 0.000</td> <td>   -0.990</td> <td>   -0.388</td>\n",
       "</tr>\n",
       "<tr>\n",
       "  <th>ma.L1.D.Close</th> <td>    0.6024</td> <td>    0.172</td> <td>    3.494</td> <td> 0.000</td> <td>    0.264</td> <td>    0.940</td>\n",
       "</tr>\n",
       "<tr>\n",
       "  <th>ma.L2.D.Close</th> <td>    0.5329</td> <td>    0.168</td> <td>    3.163</td> <td> 0.002</td> <td>    0.203</td> <td>    0.863</td>\n",
       "</tr>\n",
       "<tr>\n",
       "  <th>ma.L3.D.Close</th> <td>    0.5558</td> <td>    0.158</td> <td>    3.522</td> <td> 0.000</td> <td>    0.246</td> <td>    0.865</td>\n",
       "</tr>\n",
       "<tr>\n",
       "  <th>ma.L4.D.Close</th> <td>    0.0804</td> <td>    0.090</td> <td>    0.891</td> <td> 0.373</td> <td>   -0.096</td> <td>    0.257</td>\n",
       "</tr>\n",
       "</table>\n",
       "<table class=\"simpletable\">\n",
       "<caption>Roots</caption>\n",
       "<tr>\n",
       "    <td></td>   <th>            Real</th>  <th>         Imaginary</th> <th>         Modulus</th>  <th>        Frequency</th>\n",
       "</tr>\n",
       "<tr>\n",
       "  <th>AR.1</th> <td>          -1.1245</td> <td>          -0.0000j</td> <td>           1.1245</td> <td>          -0.5000</td>\n",
       "</tr>\n",
       "<tr>\n",
       "  <th>AR.2</th> <td>           0.0977</td> <td>          -1.1317j</td> <td>           1.1359</td> <td>          -0.2363</td>\n",
       "</tr>\n",
       "<tr>\n",
       "  <th>AR.3</th> <td>           0.0977</td> <td>          +1.1317j</td> <td>           1.1359</td> <td>           0.2363</td>\n",
       "</tr>\n",
       "<tr>\n",
       "  <th>MA.1</th> <td>           0.2143</td> <td>          -1.2074j</td> <td>           1.2262</td> <td>          -0.2220</td>\n",
       "</tr>\n",
       "<tr>\n",
       "  <th>MA.2</th> <td>           0.2143</td> <td>          +1.2074j</td> <td>           1.2262</td> <td>           0.2220</td>\n",
       "</tr>\n",
       "<tr>\n",
       "  <th>MA.3</th> <td>          -1.3898</td> <td>          -0.0000j</td> <td>           1.3898</td> <td>          -0.5000</td>\n",
       "</tr>\n",
       "<tr>\n",
       "  <th>MA.4</th> <td>          -5.9519</td> <td>          -0.0000j</td> <td>           5.9519</td> <td>          -0.5000</td>\n",
       "</tr>\n",
       "</table>"
      ],
      "text/plain": [
       "<class 'statsmodels.iolib.summary.Summary'>\n",
       "\"\"\"\n",
       "                             ARIMA Model Results                              \n",
       "==============================================================================\n",
       "Dep. Variable:                D.Close   No. Observations:                  253\n",
       "Model:                 ARIMA(3, 1, 4)   Log Likelihood                -999.293\n",
       "Method:                       css-mle   S.D. of innovations             12.554\n",
       "Date:                Sat, 04 Sep 2021   AIC                           2016.586\n",
       "Time:                        11:20:14   BIC                           2048.386\n",
       "Sample:                             1   HQIC                          2029.380\n",
       "                                                                              \n",
       "=================================================================================\n",
       "                    coef    std err          z      P>|z|      [0.025      0.975]\n",
       "---------------------------------------------------------------------------------\n",
       "const             0.2890      0.713      0.405      0.685      -1.109       1.687\n",
       "ar.L1.D.Close    -0.7379      0.166     -4.433      0.000      -1.064      -0.412\n",
       "ar.L2.D.Close    -0.6404      0.176     -3.636      0.000      -0.986      -0.295\n",
       "ar.L3.D.Close    -0.6892      0.154     -4.489      0.000      -0.990      -0.388\n",
       "ma.L1.D.Close     0.6024      0.172      3.494      0.000       0.264       0.940\n",
       "ma.L2.D.Close     0.5329      0.168      3.163      0.002       0.203       0.863\n",
       "ma.L3.D.Close     0.5558      0.158      3.522      0.000       0.246       0.865\n",
       "ma.L4.D.Close     0.0804      0.090      0.891      0.373      -0.096       0.257\n",
       "                                    Roots                                    \n",
       "=============================================================================\n",
       "                  Real          Imaginary           Modulus         Frequency\n",
       "-----------------------------------------------------------------------------\n",
       "AR.1           -1.1245           -0.0000j            1.1245           -0.5000\n",
       "AR.2            0.0977           -1.1317j            1.1359           -0.2363\n",
       "AR.3            0.0977           +1.1317j            1.1359            0.2363\n",
       "MA.1            0.2143           -1.2074j            1.2262           -0.2220\n",
       "MA.2            0.2143           +1.2074j            1.2262            0.2220\n",
       "MA.3           -1.3898           -0.0000j            1.3898           -0.5000\n",
       "MA.4           -5.9519           -0.0000j            5.9519           -0.5000\n",
       "-----------------------------------------------------------------------------\n",
       "\"\"\""
      ]
     },
     "execution_count": 59,
     "metadata": {},
     "output_type": "execute_result"
    }
   ],
   "source": [
    "model=ARIMA(stocks_n['Close'],order=(3,1,4))\n",
    "model=model.fit()\n",
    "model.summary()"
   ]
  },
  {
   "cell_type": "code",
   "execution_count": 60,
   "metadata": {},
   "outputs": [
    {
     "name": "stdout",
     "output_type": "stream",
     "text": [
      "Date\n",
      "2021-05-20    488.017873\n",
      "2021-05-21    499.109123\n",
      "2021-05-24    497.267241\n",
      "2021-05-25    503.103658\n",
      "2021-05-26    505.133846\n",
      "2021-05-27    500.461678\n",
      "2021-05-28    504.103430\n",
      "2021-06-01    502.156189\n",
      "2021-06-02    501.480822\n",
      "2021-06-03    499.686074\n",
      "2021-06-04    490.837405\n",
      "2021-06-07    493.273333\n",
      "2021-06-08    496.001230\n",
      "2021-06-09    491.251067\n",
      "2021-06-10    488.943011\n",
      "2021-06-11    487.054759\n",
      "2021-06-14    488.977300\n",
      "2021-06-15    496.725289\n",
      "2021-06-16    494.254623\n",
      "2021-06-17    492.893283\n",
      "2021-06-18    500.524974\n",
      "2021-06-21    497.351523\n",
      "2021-06-22    497.822907\n",
      "2021-06-23    508.735926\n",
      "2021-06-24    513.859736\n",
      "2021-06-25    515.111851\n",
      "2021-06-28    527.751205\n",
      "2021-06-29    532.291051\n",
      "2021-06-30    534.538270\n",
      "2021-07-01    529.318554\n",
      "dtype: float64\n"
     ]
    }
   ],
   "source": [
    "start1=len(train)\n",
    "end1=len(train)+len(test)-1\n",
    "pred=model.predict(start=start1,end=end1,typ='levels')\n",
    "pred.index=stocks_n.index[start1:end1+1]\n",
    "print(pred)"
   ]
  },
  {
   "cell_type": "code",
   "execution_count": 62,
   "metadata": {},
   "outputs": [
    {
     "data": {
      "text/plain": [
       "<AxesSubplot:xlabel='Date'>"
      ]
     },
     "execution_count": 62,
     "metadata": {},
     "output_type": "execute_result"
    },
    {
     "data": {
      "image/png": "[encoded data removed]",
      "text/plain": [
       "<Figure size 432x288 with 1 Axes>"
      ]
     },
     "metadata": {
      "needs_background": "light"
     },
     "output_type": "display_data"
    }
   ],
   "source": [
    "pred.plot(legend=True)\n",
    "stocks_n['Close'].plot(legend=True)"
   ]
  },
  {
   "cell_type": "code",
   "execution_count": 63,
   "metadata": {},
   "outputs": [
    {
     "name": "stdout",
     "output_type": "stream",
     "text": [
      "5.7424149484444404\n"
     ]
    }
   ],
   "source": [
    "from sklearn.metrics import mean_squared_error\n",
    "from math import sqrt\n",
    "rmse=sqrt(mean_squared_error(pred,test['Close']))\n",
    "print(rmse)"
   ]
  },
  {
   "cell_type": "code",
   "execution_count": 64,
   "metadata": {},
   "outputs": [
    {
     "data": {
      "text/plain": [
       "503.98333231608075"
      ]
     },
     "execution_count": 64,
     "metadata": {},
     "output_type": "execute_result"
    }
   ],
   "source": [
    "test['Close'].mean()"
   ]
  },
  {
   "cell_type": "code",
   "execution_count": 67,
   "metadata": {},
   "outputs": [
    {
     "data": {
      "text/html": [
       "<div>\n",
       "<style scoped>\n",
       "    .dataframe tbody tr th:only-of-type {\n",
       "        vertical-align: middle;\n",
       "    }\n",
       "\n",
       "    .dataframe tbody tr th {\n",
       "        vertical-align: top;\n",
       "    }\n",
       "\n",
       "    .dataframe thead th {\n",
       "        text-align: right;\n",
       "    }\n",
       "</style>\n",
       "<table border=\"1\" class=\"dataframe\">\n",
       "  <thead>\n",
       "    <tr style=\"text-align: right;\">\n",
       "      <th></th>\n",
       "      <th>High</th>\n",
       "      <th>Low</th>\n",
       "      <th>Open</th>\n",
       "      <th>Close</th>\n",
       "      <th>Volume</th>\n",
       "      <th>Adj Close</th>\n",
       "    </tr>\n",
       "    <tr>\n",
       "      <th>Date</th>\n",
       "      <th></th>\n",
       "      <th></th>\n",
       "      <th></th>\n",
       "      <th></th>\n",
       "      <th></th>\n",
       "      <th></th>\n",
       "    </tr>\n",
       "  </thead>\n",
       "  <tbody>\n",
       "    <tr>\n",
       "      <th>2021-06-25</th>\n",
       "      <td>533.059998</td>\n",
       "      <td>525.000000</td>\n",
       "      <td>528.840027</td>\n",
       "      <td>527.070007</td>\n",
       "      <td>5299100</td>\n",
       "      <td>527.070007</td>\n",
       "    </tr>\n",
       "    <tr>\n",
       "      <th>2021-06-28</th>\n",
       "      <td>533.940002</td>\n",
       "      <td>524.559998</td>\n",
       "      <td>528.119995</td>\n",
       "      <td>533.030029</td>\n",
       "      <td>2820200</td>\n",
       "      <td>533.030029</td>\n",
       "    </tr>\n",
       "    <tr>\n",
       "      <th>2021-06-29</th>\n",
       "      <td>536.130005</td>\n",
       "      <td>528.570007</td>\n",
       "      <td>533.549988</td>\n",
       "      <td>533.500000</td>\n",
       "      <td>2314600</td>\n",
       "      <td>533.500000</td>\n",
       "    </tr>\n",
       "    <tr>\n",
       "      <th>2021-06-30</th>\n",
       "      <td>534.380005</td>\n",
       "      <td>526.820007</td>\n",
       "      <td>534.059998</td>\n",
       "      <td>528.210022</td>\n",
       "      <td>2773400</td>\n",
       "      <td>528.210022</td>\n",
       "    </tr>\n",
       "    <tr>\n",
       "      <th>2021-07-01</th>\n",
       "      <td>537.039978</td>\n",
       "      <td>525.719971</td>\n",
       "      <td>525.719971</td>\n",
       "      <td>533.539978</td>\n",
       "      <td>2805400</td>\n",
       "      <td>533.539978</td>\n",
       "    </tr>\n",
       "  </tbody>\n",
       "</table>\n",
       "</div>"
      ],
      "text/plain": [
       "                  High         Low        Open       Close   Volume  \\\n",
       "Date                                                                  \n",
       "2021-06-25  533.059998  525.000000  528.840027  527.070007  5299100   \n",
       "2021-06-28  533.940002  524.559998  528.119995  533.030029  2820200   \n",
       "2021-06-29  536.130005  528.570007  533.549988  533.500000  2314600   \n",
       "2021-06-30  534.380005  526.820007  534.059998  528.210022  2773400   \n",
       "2021-07-01  537.039978  525.719971  525.719971  533.539978  2805400   \n",
       "\n",
       "             Adj Close  \n",
       "Date                    \n",
       "2021-06-25  527.070007  \n",
       "2021-06-28  533.030029  \n",
       "2021-06-29  533.500000  \n",
       "2021-06-30  528.210022  \n",
       "2021-07-01  533.539978  "
      ]
     },
     "execution_count": 67,
     "metadata": {},
     "output_type": "execute_result"
    }
   ],
   "source": [
    "model2=ARIMA(train['Close'],order=(2,1,5))\n",
    "model2=model2.fit()\n",
    "stocks_n.tail()"
   ]
  },
  {
   "cell_type": "code",
   "execution_count": 68,
   "metadata": {},
   "outputs": [
    {
     "name": "stdout",
     "output_type": "stream",
     "text": [
      "2020-07-02    493.854067\n",
      "2020-07-03    497.008017\n",
      "2020-07-04    502.571300\n",
      "2020-07-05    505.012634\n",
      "2020-07-06    510.083094\n",
      "                 ...    \n",
      "2020-08-29    536.196960\n",
      "2020-08-30    536.347584\n",
      "2020-08-31    536.498175\n",
      "2020-09-01    536.648740\n",
      "2020-09-02    536.799281\n",
      "Freq: D, Name: Arima Pred, Length: 63, dtype: float64\n"
     ]
    }
   ],
   "source": [
    "future_dates=pd.date_range(start='2020-07-02',end='2020-09-02')\n",
    "pred=model2.predict(start=len(train),end=len(train)+62,typ='levels').rename('Arima Pred')\n",
    "pred.index=future_dates\n",
    "print(pred)"
   ]
  },
  {
   "cell_type": "code",
   "execution_count": 69,
   "metadata": {},
   "outputs": [
    {
     "data": {
      "text/plain": [
       "<AxesSubplot:>"
      ]
     },
     "execution_count": 69,
     "metadata": {},
     "output_type": "execute_result"
    },
    {
     "data": {
      "image/png": "[encoded data removed]",
      "text/plain": [
       "<Figure size 864x360 with 1 Axes>"
      ]
     },
     "metadata": {
      "needs_background": "light"
     },
     "output_type": "display_data"
    }
   ],
   "source": [
    "pred.plot(figsize=(12,5),legend=True)"
   ]
  },
  {
   "cell_type": "code",
   "execution_count": 70,
   "metadata": {},
   "outputs": [
    {
     "data": {
      "text/plain": [
       "254"
      ]
     },
     "execution_count": 70,
     "metadata": {},
     "output_type": "execute_result"
    }
   ],
   "source": [
    "#another aproach\n",
    "d1=stocks_n.filter(['Close'])\n",
    "nflx_ds=d1.values\n",
    "len(nflx_ds)"
   ]
  },
  {
   "cell_type": "code",
   "execution_count": 71,
   "metadata": {},
   "outputs": [
    {
     "data": {
      "text/plain": [
       "178"
      ]
     },
     "execution_count": 71,
     "metadata": {},
     "output_type": "execute_result"
    }
   ],
   "source": [
    "import math\n",
    "train_ds=math.ceil(len(nflx_ds)*0.7)\n",
    "train_ds"
   ]
  },
  {
   "cell_type": "code",
   "execution_count": 72,
   "metadata": {},
   "outputs": [],
   "source": [
    "scaler=MinMaxScaler(feature_range=(0,1))"
   ]
  },
  {
   "cell_type": "code",
   "execution_count": 73,
   "metadata": {},
   "outputs": [
    {
     "data": {
      "text/plain": [
       "array([[0.        ],\n",
       "       [0.23305409],\n",
       "       [0.16641282],\n",
       "       [0.29527786],\n",
       "       [0.29032742],\n",
       "       [0.3635947 ],\n",
       "       [0.40152318],\n",
       "       [0.71355643],\n",
       "       [0.53663352],\n",
       "       [0.53191155],\n",
       "       [0.51957343],\n",
       "       [0.55102815],\n",
       "       [0.28903257],\n",
       "       [0.36077676],\n",
       "       [0.26702203],\n",
       "       [0.26488952],\n",
       "       [0.17166774],\n",
       "       [0.19352628],\n",
       "       [0.30929154],\n",
       "       [0.25491239],\n",
       "       [0.22421933],\n",
       "       [0.23427247],\n",
       "       [0.25773032],\n",
       "       [0.3319115 ],\n",
       "       [0.41584157],\n",
       "       [0.35849178],\n",
       "       [0.41157632],\n",
       "       [0.30228482],\n",
       "       [0.21584153],\n",
       "       [0.09055585],\n",
       "       [0.15559779],\n",
       "       [0.20022829],\n",
       "       [0.21051013],\n",
       "       [0.20799691],\n",
       "       [0.28050252],\n",
       "       [0.22460005],\n",
       "       [0.32642787],\n",
       "       [0.28385365],\n",
       "       [0.25719714],\n",
       "       [0.27067763],\n",
       "       [0.70441742],\n",
       "       [0.5424981 ],\n",
       "       [0.52437164],\n",
       "       [0.56755505],\n",
       "       [0.77311474],\n",
       "       [0.74485914],\n",
       "       [0.53853756],\n",
       "       [0.46466086],\n",
       "       [0.39588708],\n",
       "       [0.34386891],\n",
       "       [0.19520184],\n",
       "       [0.20555968],\n",
       "       [0.16161461],\n",
       "       [0.31188101],\n",
       "       [0.21949713],\n",
       "       [0.11546079],\n",
       "       [0.11363276],\n",
       "       [0.24607763],\n",
       "       [0.27517136],\n",
       "       [0.1185832 ],\n",
       "       [0.13739509],\n",
       "       [0.21203345],\n",
       "       [0.27121082],\n",
       "       [0.29276464],\n",
       "       [0.3426503 ],\n",
       "       [0.55194205],\n",
       "       [0.36572721],\n",
       "       [0.49969541],\n",
       "       [0.38712856],\n",
       "       [0.60639721],\n",
       "       [0.58453891],\n",
       "       [0.64280261],\n",
       "       [0.64562054],\n",
       "       [0.75437932],\n",
       "       [0.65811113],\n",
       "       [0.66184297],\n",
       "       [0.57692276],\n",
       "       [0.57638958],\n",
       "       [0.5360241 ],\n",
       "       [0.25902494],\n",
       "       [0.22993144],\n",
       "       [0.25316059],\n",
       "       [0.25285588],\n",
       "       [0.25811104],\n",
       "       [0.23762359],\n",
       "       [0.37448573],\n",
       "       [0.15765407],\n",
       "       [0.2214774 ],\n",
       "       [0.2450875 ],\n",
       "       [0.31919267],\n",
       "       [0.44722005],\n",
       "       [0.45460749],\n",
       "       [0.11774554],\n",
       "       [0.19192672],\n",
       "       [0.27204871],\n",
       "       [0.24166014],\n",
       "       [0.21172874],\n",
       "       [0.18324443],\n",
       "       [0.19489713],\n",
       "       [0.20373188],\n",
       "       [0.22566642],\n",
       "       [0.25285588],\n",
       "       [0.16435631],\n",
       "       [0.21203345],\n",
       "       [0.22817964],\n",
       "       [0.27661822],\n",
       "       [0.27159176],\n",
       "       [0.37730366],\n",
       "       [0.36816443],\n",
       "       [0.3235337 ],\n",
       "       [0.32955052],\n",
       "       [0.46260482],\n",
       "       [0.43884201],\n",
       "       [0.29367854],\n",
       "       [0.35072339],\n",
       "       [0.36694582],\n",
       "       [0.51317567],\n",
       "       [0.4930694 ],\n",
       "       [0.53153084],\n",
       "       [0.59299318],\n",
       "       [0.60479812],\n",
       "       [0.56260437],\n",
       "       [0.5505712 ],\n",
       "       [0.45270345],\n",
       "       [0.44881915],\n",
       "       [0.48804248],\n",
       "       [0.57753219],\n",
       "       [0.52970304],\n",
       "       [0.65262727],\n",
       "       [0.51652679],\n",
       "       [0.50083755],\n",
       "       [0.34615366],\n",
       "       [0.41012946],\n",
       "       [0.42162968],\n",
       "       [0.33556734],\n",
       "       [0.29862899],\n",
       "       [0.40175166],\n",
       "       [0.34897159],\n",
       "       [0.32703729],\n",
       "       [0.35590231],\n",
       "       [1.        ],\n",
       "       [0.95049506],\n",
       "       [0.83876587],\n",
       "       [0.77486677],\n",
       "       [0.81408964],\n",
       "       [0.5197259 ],\n",
       "       [0.63640484],\n",
       "       [0.58910888],\n",
       "       [0.63975596],\n",
       "       [0.70921517],\n",
       "       [0.64287884],\n",
       "       [0.73967975],\n",
       "       [0.72924567],\n",
       "       [0.70738737],\n",
       "       [0.79230757],\n",
       "       [0.8267327 ],\n",
       "       [0.78103583],\n",
       "       [0.7728865 ],\n",
       "       [0.77867484],\n",
       "       [0.73343492],\n",
       "       [0.70967212],\n",
       "       [0.64874296],\n",
       "       [0.59969543],\n",
       "       [0.69390711],\n",
       "       [0.74919993],\n",
       "       [0.69809589],\n",
       "       [0.63830888],\n",
       "       [0.72810352],\n",
       "       [0.70662594],\n",
       "       [0.50007612],\n",
       "       [0.42840817],\n",
       "       [0.46725055],\n",
       "       [0.29162203],\n",
       "       [0.39146982],\n",
       "       [0.37699919],\n",
       "       [0.51805011],\n",
       "       [0.47966491],\n",
       "       [0.49664876],\n",
       "       [0.52543801],\n",
       "       [0.52856043],\n",
       "       [0.37890322],\n",
       "       [0.43518641],\n",
       "       [0.51843082],\n",
       "       [0.60967256],\n",
       "       [0.50091378],\n",
       "       [0.36420389],\n",
       "       [0.4037317 ],\n",
       "       [0.44866714],\n",
       "       [0.44440212],\n",
       "       [0.50738732],\n",
       "       [0.64265013],\n",
       "       [0.65217032],\n",
       "       [0.68156899],\n",
       "       [0.70030441],\n",
       "       [0.75811116],\n",
       "       [0.76367079],\n",
       "       [0.74440219],\n",
       "       [0.75163715],\n",
       "       [0.6472201 ],\n",
       "       [0.71728826],\n",
       "       [0.69687705],\n",
       "       [0.75704478],\n",
       "       [0.71995419],\n",
       "       [0.41020547],\n",
       "       [0.40929157],\n",
       "       [0.38469133],\n",
       "       [0.42086802],\n",
       "       [0.38469133],\n",
       "       [0.392079  ],\n",
       "       [0.41096713],\n",
       "       [0.44501107],\n",
       "       [0.41180479],\n",
       "       [0.36664111],\n",
       "       [0.31256643],\n",
       "       [0.33899446],\n",
       "       [0.37166779],\n",
       "       [0.24105095],\n",
       "       [0.30495029],\n",
       "       [0.2280274 ],\n",
       "       [0.24082247],\n",
       "       [0.29192674],\n",
       "       [0.25818727],\n",
       "       [0.2379283 ],\n",
       "       [0.24874333],\n",
       "       [0.35514089],\n",
       "       [0.32635187],\n",
       "       [0.3645086 ],\n",
       "       [0.35262743],\n",
       "       [0.36039581],\n",
       "       [0.37182003],\n",
       "       [0.36382317],\n",
       "       [0.33541487],\n",
       "       [0.33663348],\n",
       "       [0.26191911],\n",
       "       [0.30236082],\n",
       "       [0.30175163],\n",
       "       [0.28446307],\n",
       "       [0.2343487 ],\n",
       "       [0.24546821],\n",
       "       [0.25689243],\n",
       "       [0.34158416],\n",
       "       [0.280731  ],\n",
       "       [0.28461531],\n",
       "       [0.32977899],\n",
       "       [0.34828617],\n",
       "       [0.31957339],\n",
       "       [0.40959628],\n",
       "       [0.43945144],\n",
       "       [0.47996938],\n",
       "       [0.54859093],\n",
       "       [0.59398332],\n",
       "       [0.59756268],\n",
       "       [0.55727344],\n",
       "       [0.59786716]])"
      ]
     },
     "execution_count": 73,
     "metadata": {},
     "output_type": "execute_result"
    }
   ],
   "source": [
    "scaled_nflx=scaler.fit_transform(nflx_ds)\n",
    "scaled_nflx"
   ]
  },
  {
   "cell_type": "code",
   "execution_count": 74,
   "metadata": {},
   "outputs": [
    {
     "name": "stdout",
     "output_type": "stream",
     "text": [
      "[array([0.        , 0.23305409, 0.16641282, 0.29527786, 0.29032742,\n",
      "       0.3635947 , 0.40152318, 0.71355643, 0.53663352, 0.53191155,\n",
      "       0.51957343, 0.55102815, 0.28903257, 0.36077676, 0.26702203,\n",
      "       0.26488952, 0.17166774, 0.19352628, 0.30929154, 0.25491239,\n",
      "       0.22421933, 0.23427247, 0.25773032, 0.3319115 , 0.41584157,\n",
      "       0.35849178, 0.41157632, 0.30228482, 0.21584153, 0.09055585,\n",
      "       0.15559779, 0.20022829, 0.21051013, 0.20799691, 0.28050252,\n",
      "       0.22460005, 0.32642787, 0.28385365, 0.25719714, 0.27067763,\n",
      "       0.70441742, 0.5424981 , 0.52437164, 0.56755505, 0.77311474,\n",
      "       0.74485914, 0.53853756, 0.46466086, 0.39588708, 0.34386891,\n",
      "       0.19520184, 0.20555968, 0.16161461, 0.31188101, 0.21949713,\n",
      "       0.11546079, 0.11363276, 0.24607763, 0.27517136, 0.1185832 ])]\n",
      "[0.1373950914818316]\n",
      "[array([0.        , 0.23305409, 0.16641282, 0.29527786, 0.29032742,\n",
      "       0.3635947 , 0.40152318, 0.71355643, 0.53663352, 0.53191155,\n",
      "       0.51957343, 0.55102815, 0.28903257, 0.36077676, 0.26702203,\n",
      "       0.26488952, 0.17166774, 0.19352628, 0.30929154, 0.25491239,\n",
      "       0.22421933, 0.23427247, 0.25773032, 0.3319115 , 0.41584157,\n",
      "       0.35849178, 0.41157632, 0.30228482, 0.21584153, 0.09055585,\n",
      "       0.15559779, 0.20022829, 0.21051013, 0.20799691, 0.28050252,\n",
      "       0.22460005, 0.32642787, 0.28385365, 0.25719714, 0.27067763,\n",
      "       0.70441742, 0.5424981 , 0.52437164, 0.56755505, 0.77311474,\n",
      "       0.74485914, 0.53853756, 0.46466086, 0.39588708, 0.34386891,\n",
      "       0.19520184, 0.20555968, 0.16161461, 0.31188101, 0.21949713,\n",
      "       0.11546079, 0.11363276, 0.24607763, 0.27517136, 0.1185832 ]), array([0.23305409, 0.16641282, 0.29527786, 0.29032742, 0.3635947 ,\n",
      "       0.40152318, 0.71355643, 0.53663352, 0.53191155, 0.51957343,\n",
      "       0.55102815, 0.28903257, 0.36077676, 0.26702203, 0.26488952,\n",
      "       0.17166774, 0.19352628, 0.30929154, 0.25491239, 0.22421933,\n",
      "       0.23427247, 0.25773032, 0.3319115 , 0.41584157, 0.35849178,\n",
      "       0.41157632, 0.30228482, 0.21584153, 0.09055585, 0.15559779,\n",
      "       0.20022829, 0.21051013, 0.20799691, 0.28050252, 0.22460005,\n",
      "       0.32642787, 0.28385365, 0.25719714, 0.27067763, 0.70441742,\n",
      "       0.5424981 , 0.52437164, 0.56755505, 0.77311474, 0.74485914,\n",
      "       0.53853756, 0.46466086, 0.39588708, 0.34386891, 0.19520184,\n",
      "       0.20555968, 0.16161461, 0.31188101, 0.21949713, 0.11546079,\n",
      "       0.11363276, 0.24607763, 0.27517136, 0.1185832 , 0.13739509])]\n",
      "[0.1373950914818316, 0.212033453582956]\n"
     ]
    }
   ],
   "source": [
    "train_dataset=scaled_nflx[0:train_ds, :]\n",
    "x_train=[]\n",
    "y_train=[]\n",
    "for i in range(60, len(train_dataset)):\n",
    "    x_train.append(train_dataset[i-60:i,0])\n",
    "    y_train.append(train_dataset[i,0])\n",
    "    if i<=61:\n",
    "        print(x_train)\n",
    "        print(y_train)\n",
    "    "
   ]
  },
  {
   "cell_type": "code",
   "execution_count": 75,
   "metadata": {},
   "outputs": [
    {
     "data": {
      "text/plain": [
       "(118, 60, 1)"
      ]
     },
     "execution_count": 75,
     "metadata": {},
     "output_type": "execute_result"
    }
   ],
   "source": [
    "x_train,y_train=np.array(x_train), np.array(y_train)\n",
    "x_train=np.reshape(x_train, (x_train.shape[0],x_train.shape[1],1))\n",
    "x_train.shape"
   ]
  },
  {
   "cell_type": "code",
   "execution_count": 76,
   "metadata": {},
   "outputs": [],
   "source": [
    "model_1=Sequential()\n",
    "model_1.add(LSTM(50, return_sequences=True, input_shape=(x_train.shape[1],1)))\n",
    "model_1.add(LSTM(50, return_sequences=False))\n",
    "model_1.add(Dense(25))\n",
    "model_1.add(Dense(1))"
   ]
  },
  {
   "cell_type": "code",
   "execution_count": 77,
   "metadata": {},
   "outputs": [],
   "source": [
    "model_1.compile(optimizer='adam',loss='mean_squared_error')"
   ]
  },
  {
   "cell_type": "code",
   "execution_count": 78,
   "metadata": {},
   "outputs": [
    {
     "name": "stdout",
     "output_type": "stream",
     "text": [
      "118/118 [==============================] - 11s 54ms/step - loss: 0.0373\n"
     ]
    },
    {
     "data": {
      "text/plain": [
       "<keras.callbacks.History at 0x208cd9e3580>"
      ]
     },
     "execution_count": 78,
     "metadata": {},
     "output_type": "execute_result"
    }
   ],
   "source": [
    "model_1.fit(x_train, y_train, batch_size=1, epochs=1)"
   ]
  },
  {
   "cell_type": "code",
   "execution_count": 79,
   "metadata": {},
   "outputs": [],
   "source": [
    "test_ds=scaled_nflx[train_ds-60: , :]\n",
    "x_test=[]\n",
    "y_test=nflx_ds[train_ds:, :]\n",
    "for i in range(60, len(test_ds)):\n",
    "    x_test.append(test_ds[i-60:i,0])\n",
    "    "
   ]
  },
  {
   "cell_type": "code",
   "execution_count": 80,
   "metadata": {},
   "outputs": [],
   "source": [
    "x_test=np.array(x_test)"
   ]
  },
  {
   "cell_type": "code",
   "execution_count": 81,
   "metadata": {},
   "outputs": [],
   "source": [
    "x_test=np.reshape(x_test,(x_test.shape[0],x_test.shape[1],1))"
   ]
  },
  {
   "cell_type": "code",
   "execution_count": 82,
   "metadata": {},
   "outputs": [],
   "source": [
    "pred_s=model_1.predict(x_test)"
   ]
  },
  {
   "cell_type": "code",
   "execution_count": 83,
   "metadata": {},
   "outputs": [],
   "source": [
    "pred_s=scaler.inverse_transform(pred_s)"
   ]
  },
  {
   "cell_type": "code",
   "execution_count": 84,
   "metadata": {},
   "outputs": [
    {
     "data": {
      "text/plain": [
       "1.7897511532432155"
      ]
     },
     "execution_count": 84,
     "metadata": {},
     "output_type": "execute_result"
    }
   ],
   "source": [
    "rmse=np.sqrt(np.mean(pred_s - y_test)**2)\n",
    "rmse"
   ]
  },
  {
   "cell_type": "code",
   "execution_count": 85,
   "metadata": {},
   "outputs": [
    {
     "data": {
      "text/plain": [
       "<matplotlib.legend.Legend at 0x208cd8f8190>"
      ]
     },
     "execution_count": 85,
     "metadata": {},
     "output_type": "execute_result"
    },
    {
     "data": {
      "image/png": "[encoded data removed]",
      "text/plain": [
       "<Figure size 1152x576 with 1 Axes>"
      ]
     },
     "metadata": {
      "needs_background": "light"
     },
     "output_type": "display_data"
    }
   ],
   "source": [
    "train1=stocks_n[:train_ds]\n",
    "valid=stocks_n[train_ds:]\n",
    "plt.figure(figsize=(16,8))\n",
    "valid['pred_s']=pred_s\n",
    "plt.plot(train1['Close'])\n",
    "plt.plot(valid[['Close','pred_s']])\n",
    "plt.legend(['Train','Val','pred_s'],loc='lower right')"
   ]
  },
  {
   "cell_type": "code",
   "execution_count": null,
   "metadata": {},
   "outputs": [],
   "source": [
    "# checking score"
   ]
  },
  {
   "cell_type": "code",
   "execution_count": null,
   "metadata": {},
   "outputs": [],
   "source": []
  },
  {
   "cell_type": "code",
   "execution_count": null,
   "metadata": {},
   "outputs": [],
   "source": []
  }
 ],
 "metadata": {
  "kernelspec": {
   "display_name": "Python 3",
   "language": "python",
   "name": "python3"
  },
  "language_info": {
   "codemirror_mode": {
    "name": "ipython",
    "version": 3
   },
   "file_extension": ".py",
   "mimetype": "text/x-python",
   "name": "python",
   "nbconvert_exporter": "python",
   "pygments_lexer": "ipython3",
   "version": "3.8.5"
  }
 },
 "nbformat": 4,
 "nbformat_minor": 4
}
